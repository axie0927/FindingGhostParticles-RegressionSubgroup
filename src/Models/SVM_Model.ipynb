{
 "cells": [
  {
   "cell_type": "code",
   "execution_count": 1,
   "id": "4b2972d2",
   "metadata": {},
   "outputs": [],
   "source": [
    "import numpy as np\n",
    "import pandas as pd\n",
    "import os\n",
    "import matplotlib.pyplot as plt\n",
    "import seaborn as sns\n",
    "from sklearn.model_selection import train_test_split\n",
    "from sklearn.svm import LinearSVR\n",
    "from sklearn.metrics import mean_squared_error, r2_score\n",
    "from sklearn.preprocessing import StandardScaler\n",
    "from sklearn.model_selection import GridSearchCV"
   ]
  },
  {
   "cell_type": "code",
   "execution_count": 2,
   "id": "0375c94e",
   "metadata": {},
   "outputs": [],
   "source": [
    "# Assign processed data to data_files\n",
    "cwd = os.getcwd()\n",
    "data_dir = os.path.join(cwd, \"Data/\")\n",
    "data_files = [f for f in os.listdir(str(data_dir)) if f.endswith('csv')]\n",
    "\n",
    "data_train_name = [f for f in data_files if 'TRAIN' in f]\n",
    "data_test_name = [f for f in data_files if 'TEST' in f]\n",
    "\n",
    "data_train = pd.read_csv(os.path.join(data_dir,data_train_name[0]))\n",
    "data_test = pd.read_csv(os.path.join(data_dir,data_test_name[0]))\n"
   ]
  },
  {
   "cell_type": "code",
   "execution_count": 3,
   "id": "8643d508",
   "metadata": {},
   "outputs": [],
   "source": [
    "# Drop columns needed for classification group\n",
    "boolean_col = ['highavse','lowavse','truedcr','lq']\n",
    "data_train_filtered = data_train.drop(columns=boolean_col+['id'])\n",
    "data_test_filtered = data_test.drop(columns=boolean_col+['id'])\n",
    "\n",
    "# Find and Drop rows with missing values\n",
    "data_train_filtered = data_train_filtered.dropna()\n",
    "data_test_filtered = data_test_filtered.dropna()\n",
    "\n",
    "# Drop irrelevant features and feature with perfect multicollinearity \n",
    "data_train_filtered = data_train_filtered.drop(columns=['tdrift50','tdrift10'])\n",
    "data_test_filtered = data_test_filtered.drop(columns=['tdrift50','tdrift10'])"
   ]
  },
  {
   "cell_type": "code",
   "execution_count": 4,
   "id": "5a6081e8",
   "metadata": {},
   "outputs": [
    {
     "name": "stdout",
     "output_type": "stream",
     "text": [
      "Best Hyperparameters: {'C': 10, 'epsilon': 0.1, 'loss': 'epsilon_insensitive'}\n",
      "MSE: 4759.471611340331\n",
      "R^2 Score: 0.9893673965840055\n"
     ]
    }
   ],
   "source": [
    "# Train Test split\n",
    "X_train = data_train_filtered.drop(columns=['energylabel'])\n",
    "X_test = data_test_filtered.drop(columns=['energylabel'])\n",
    "y_train = data_train_filtered['energylabel']\n",
    "y_test = data_test_filtered['energylabel']\n",
    "\n",
    "# Standardizing our columns\n",
    "scaler = StandardScaler()\n",
    "X_train_standardized = scaler.fit_transform(X_train)\n",
    "X_test_standardized = scaler.transform(X_test)\n",
    "\n",
    "param_grid = {\n",
    "    'C': [0.1, 1, 10],\n",
    "    'epsilon': [0.1, 0.5], \n",
    "    'loss': ['epsilon_insensitive']\n",
    "}\n",
    "\n",
    "# Train SVR with default parameters\n",
    "svr = LinearSVR(random_state=42, max_iter=10000)\n",
    "\n",
    "# Perform GridSearchCV with 3-fold Crossvalidation (using 3-fold to minimize runtime)\n",
    "grid_search = GridSearchCV(\n",
    "    estimator=svr,\n",
    "    param_grid=param_grid,\n",
    "    scoring='neg_mean_squared_error',\n",
    "    cv=3,  \n",
    ")\n",
    "\n",
    "# Fit the model\n",
    "grid_search.fit(X_train_standardized, y_train)\n",
    "\n",
    "# Best parameters and model\n",
    "best_params = grid_search.best_params_\n",
    "best_svr_model = grid_search.best_estimator_\n",
    "\n",
    "print(f\"Best Hyperparameters: {best_params}\")\n",
    "\n",
    "# Predictions\n",
    "y_pred = best_svr_model.predict(X_test_standardized)\n",
    "\n",
    "# Evaluate the model\n",
    "mse = mean_squared_error(y_test, y_pred)\n",
    "r2 = r2_score(y_test, y_pred)\n",
    "\n",
    "print(f\"MSE: {mse}\")\n",
    "print(f\"R^2 Score: {r2}\")"
   ]
  },
  {
   "cell_type": "markdown",
   "id": "f7dc5985",
   "metadata": {},
   "source": [
    "We see here that an SVM model may not be the best model to use since it has a higher MSE than our base model, however we might also want to look into whether MSE is our best measure of model performance."
   ]
  },
  {
   "cell_type": "code",
   "execution_count": 5,
   "id": "62d0c158",
   "metadata": {},
   "outputs": [
    {
     "name": "stdout",
     "output_type": "stream",
     "text": [
      "14.125563340651665\n"
     ]
    }
   ],
   "source": [
    "print(np.mean(abs(y_pred - y_test)))"
   ]
  }
 ],
 "metadata": {
  "kernelspec": {
   "display_name": "venv",
   "language": "python",
   "name": "python3"
  },
  "language_info": {
   "codemirror_mode": {
    "name": "ipython",
    "version": 3
   },
   "file_extension": ".py",
   "mimetype": "text/x-python",
   "name": "python",
   "nbconvert_exporter": "python",
   "pygments_lexer": "ipython3",
   "version": "3.9.6"
  }
 },
 "nbformat": 4,
 "nbformat_minor": 5
}
