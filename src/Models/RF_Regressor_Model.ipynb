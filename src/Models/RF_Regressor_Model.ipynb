{
 "cells": [
  {
   "cell_type": "code",
   "execution_count": 1,
   "id": "4b2972d2",
   "metadata": {},
   "outputs": [],
   "source": [
    "import numpy as np\n",
    "import pandas as pd\n",
    "import os\n",
    "import matplotlib.pyplot as plt\n",
    "import seaborn as sns\n",
    "from sklearn.model_selection import train_test_split\n",
    "from sklearn.ensemble import RandomForestRegressor\n",
    "from sklearn.metrics import mean_squared_error, r2_score\n",
    "from sklearn.preprocessing import StandardScaler\n",
    "from sklearn.model_selection import GridSearchCV"
   ]
  },
  {
   "cell_type": "code",
   "execution_count": 2,
   "id": "0375c94e",
   "metadata": {},
   "outputs": [],
   "source": [
    "# Assign processed data to data_files\n",
    "cwd = os.getcwd()\n",
    "data_dir = os.path.join(cwd, \"data/\")\n",
    "data_files = [f for f in os.listdir(str(data_dir)) if f.endswith('csv')]\n",
    "\n",
    "data_train_name = [f for f in data_files if 'TRAIN' in f]\n",
    "data_test_name = [f for f in data_files if 'TEST' in f]\n",
    "\n",
    "data_train = pd.read_csv(os.path.join(data_dir,data_train_name[0]))\n",
    "data_test = pd.read_csv(os.path.join(data_dir,data_test_name[0]))\n"
   ]
  },
  {
   "cell_type": "code",
   "execution_count": 3,
   "id": "8643d508",
   "metadata": {},
   "outputs": [],
   "source": [
    "# Drop columns needed for classification group\n",
    "boolean_col = ['highavse','lowavse','truedcr','lq']\n",
    "data_train_filtered = data_train.drop(columns=boolean_col+['id'])\n",
    "data_test_filtered = data_test.drop(columns=boolean_col+['id'])\n",
    "\n",
    "# Find and Drop rows with missing values\n",
    "data_train_filtered = data_train_filtered.dropna()\n",
    "data_test_filtered = data_test_filtered.dropna()\n",
    "\n",
    "# Drop irrelevant features and feature with perfect multicollinearity \n",
    "data_train_filtered = data_train_filtered.drop(columns=['tdrift50','tdrift10'])\n",
    "data_test_filtered = data_test_filtered.drop(columns=['tdrift50','tdrift10'])"
   ]
  },
  {
   "cell_type": "code",
   "execution_count": 4,
   "id": "5a6081e8",
   "metadata": {},
   "outputs": [],
   "source": [
    "# Train Test split\n",
    "X_train = data_train_filtered.drop(columns=['energylabel'])\n",
    "X_test = data_test_filtered.drop(columns=['energylabel'])\n",
    "y_train = data_train_filtered['energylabel']\n",
    "y_test = data_test_filtered['energylabel']\n",
    "\n",
    "# Standardizing our columns\n",
    "scaler = StandardScaler()\n",
    "X_train_standardized = scaler.fit_transform(X_train)\n",
    "X_test_standardized = scaler.transform(X_test)"
   ]
  },
  {
   "cell_type": "code",
   "execution_count": 5,
   "id": "35f454b7",
   "metadata": {},
   "outputs": [
    {
     "name": "stdout",
     "output_type": "stream",
     "text": [
      "building tree 1 of 1\n",
      "building tree 1 of 2\n",
      "building tree 2 of 2\n",
      "building tree 1 of 4\n",
      "building tree 2 of 4\n",
      "building tree 3 of 4\n",
      "building tree 4 of 4\n",
      "building tree 1 of 8\n",
      "building tree 2 of 8\n",
      "building tree 3 of 8\n",
      "building tree 4 of 8\n",
      "building tree 5 of 8\n",
      "building tree 6 of 8\n",
      "building tree 7 of 8\n",
      "building tree 8 of 8\n",
      "building tree 1 of 16\n",
      "building tree 2 of 16\n",
      "building tree 3 of 16\n",
      "building tree 4 of 16\n",
      "building tree 5 of 16\n",
      "building tree 6 of 16\n",
      "building tree 7 of 16\n",
      "building tree 8 of 16\n",
      "building tree 9 of 16\n",
      "building tree 10 of 16\n",
      "building tree 11 of 16\n",
      "building tree 12 of 16\n",
      "building tree 13 of 16\n",
      "building tree 14 of 16\n",
      "building tree 15 of 16\n",
      "building tree 16 of 16\n",
      "building tree 1 of 32\n",
      "building tree 2 of 32\n",
      "building tree 3 of 32\n",
      "building tree 4 of 32\n",
      "building tree 5 of 32\n",
      "building tree 6 of 32\n",
      "building tree 7 of 32\n",
      "building tree 8 of 32\n",
      "building tree 9 of 32\n",
      "building tree 10 of 32\n",
      "building tree 11 of 32\n",
      "building tree 12 of 32\n",
      "building tree 13 of 32\n",
      "building tree 14 of 32\n",
      "building tree 15 of 32\n",
      "building tree 16 of 32\n",
      "building tree 17 of 32\n",
      "building tree 18 of 32\n",
      "building tree 19 of 32\n",
      "building tree 20 of 32\n",
      "building tree 21 of 32\n",
      "building tree 22 of 32\n",
      "building tree 23 of 32\n",
      "building tree 24 of 32\n",
      "building tree 25 of 32\n",
      "building tree 26 of 32\n",
      "building tree 27 of 32\n",
      "building tree 28 of 32\n",
      "building tree 29 of 32\n",
      "building tree 30 of 32\n",
      "building tree 31 of 32\n",
      "building tree 32 of 32\n",
      "building tree 1 of 64\n",
      "building tree 2 of 64\n",
      "building tree 3 of 64\n",
      "building tree 4 of 64\n",
      "building tree 5 of 64\n",
      "building tree 6 of 64\n",
      "building tree 7 of 64\n",
      "building tree 8 of 64\n",
      "building tree 9 of 64\n",
      "building tree 10 of 64\n",
      "building tree 11 of 64\n",
      "building tree 12 of 64\n",
      "building tree 13 of 64\n",
      "building tree 14 of 64\n",
      "building tree 15 of 64\n",
      "building tree 16 of 64\n",
      "building tree 17 of 64\n",
      "building tree 18 of 64\n",
      "building tree 19 of 64\n",
      "building tree 20 of 64\n",
      "building tree 21 of 64\n",
      "building tree 22 of 64\n",
      "building tree 23 of 64\n",
      "building tree 24 of 64\n",
      "building tree 25 of 64\n",
      "building tree 26 of 64\n",
      "building tree 27 of 64\n",
      "building tree 28 of 64\n",
      "building tree 29 of 64\n",
      "building tree 30 of 64\n",
      "building tree 31 of 64\n",
      "building tree 32 of 64\n",
      "building tree 33 of 64\n",
      "building tree 34 of 64\n",
      "building tree 35 of 64\n",
      "building tree 36 of 64\n",
      "building tree 37 of 64\n",
      "building tree 38 of 64\n",
      "building tree 39 of 64\n",
      "building tree 40 of 64\n"
     ]
    },
    {
     "name": "stderr",
     "output_type": "stream",
     "text": [
      "[Parallel(n_jobs=1)]: Done  40 tasks      | elapsed: 29.2min\n"
     ]
    },
    {
     "name": "stdout",
     "output_type": "stream",
     "text": [
      "building tree 41 of 64\n",
      "building tree 42 of 64\n",
      "building tree 43 of 64\n",
      "building tree 44 of 64\n",
      "building tree 45 of 64\n",
      "building tree 46 of 64\n",
      "building tree 47 of 64\n",
      "building tree 48 of 64\n",
      "building tree 49 of 64\n",
      "building tree 50 of 64\n",
      "building tree 51 of 64\n",
      "building tree 52 of 64\n",
      "building tree 53 of 64\n",
      "building tree 54 of 64\n",
      "building tree 55 of 64\n",
      "building tree 56 of 64\n",
      "building tree 57 of 64\n",
      "building tree 58 of 64\n",
      "building tree 59 of 64\n",
      "building tree 60 of 64\n",
      "building tree 61 of 64\n",
      "building tree 62 of 64\n",
      "building tree 63 of 64\n",
      "building tree 64 of 64\n"
     ]
    },
    {
     "name": "stderr",
     "output_type": "stream",
     "text": [
      "[Parallel(n_jobs=1)]: Done  40 tasks      | elapsed:   53.5s\n",
      "[Parallel(n_jobs=1)]: Done  40 tasks      | elapsed:   12.1s\n"
     ]
    },
    {
     "name": "stdout",
     "output_type": "stream",
     "text": [
      "building tree 1 of 128\n",
      "building tree 2 of 128\n",
      "building tree 3 of 128\n",
      "building tree 4 of 128\n",
      "building tree 5 of 128\n",
      "building tree 6 of 128\n",
      "building tree 7 of 128\n",
      "building tree 8 of 128\n",
      "building tree 9 of 128\n",
      "building tree 10 of 128\n",
      "building tree 11 of 128\n",
      "building tree 12 of 128\n",
      "building tree 13 of 128\n",
      "building tree 14 of 128\n",
      "building tree 15 of 128\n",
      "building tree 16 of 128\n",
      "building tree 17 of 128\n",
      "building tree 18 of 128\n",
      "building tree 19 of 128\n",
      "building tree 20 of 128\n",
      "building tree 21 of 128\n",
      "building tree 22 of 128\n",
      "building tree 23 of 128\n",
      "building tree 24 of 128\n",
      "building tree 25 of 128\n",
      "building tree 26 of 128\n",
      "building tree 27 of 128\n",
      "building tree 28 of 128\n",
      "building tree 29 of 128\n",
      "building tree 30 of 128\n",
      "building tree 31 of 128\n",
      "building tree 32 of 128\n",
      "building tree 33 of 128\n",
      "building tree 34 of 128\n",
      "building tree 35 of 128\n",
      "building tree 36 of 128\n",
      "building tree 37 of 128\n",
      "building tree 38 of 128\n",
      "building tree 39 of 128\n",
      "building tree 40 of 128\n"
     ]
    },
    {
     "name": "stderr",
     "output_type": "stream",
     "text": [
      "[Parallel(n_jobs=1)]: Done  40 tasks      | elapsed: 28.2min\n"
     ]
    },
    {
     "name": "stdout",
     "output_type": "stream",
     "text": [
      "building tree 41 of 128\n",
      "building tree 42 of 128\n",
      "building tree 43 of 128\n",
      "building tree 44 of 128\n",
      "building tree 45 of 128\n",
      "building tree 46 of 128\n",
      "building tree 47 of 128\n",
      "building tree 48 of 128\n",
      "building tree 49 of 128\n",
      "building tree 50 of 128\n",
      "building tree 51 of 128\n",
      "building tree 52 of 128\n",
      "building tree 53 of 128\n",
      "building tree 54 of 128\n",
      "building tree 55 of 128\n",
      "building tree 56 of 128\n",
      "building tree 57 of 128\n",
      "building tree 58 of 128\n",
      "building tree 59 of 128\n",
      "building tree 60 of 128\n",
      "building tree 61 of 128\n",
      "building tree 62 of 128\n",
      "building tree 63 of 128\n",
      "building tree 64 of 128\n",
      "building tree 65 of 128\n",
      "building tree 66 of 128\n",
      "building tree 67 of 128\n",
      "building tree 68 of 128\n",
      "building tree 69 of 128\n",
      "building tree 70 of 128\n",
      "building tree 71 of 128\n",
      "building tree 72 of 128\n",
      "building tree 73 of 128\n",
      "building tree 74 of 128\n",
      "building tree 75 of 128\n",
      "building tree 76 of 128\n",
      "building tree 77 of 128\n",
      "building tree 78 of 128\n",
      "building tree 79 of 128\n",
      "building tree 80 of 128\n",
      "building tree 81 of 128\n",
      "building tree 82 of 128\n",
      "building tree 83 of 128\n",
      "building tree 84 of 128\n",
      "building tree 85 of 128\n",
      "building tree 86 of 128\n",
      "building tree 87 of 128\n",
      "building tree 88 of 128\n",
      "building tree 89 of 128\n",
      "building tree 90 of 128\n",
      "building tree 91 of 128\n",
      "building tree 92 of 128\n",
      "building tree 93 of 128\n",
      "building tree 94 of 128\n",
      "building tree 95 of 128\n",
      "building tree 96 of 128\n",
      "building tree 97 of 128\n",
      "building tree 98 of 128\n",
      "building tree 99 of 128\n",
      "building tree 100 of 128\n",
      "building tree 101 of 128\n",
      "building tree 102 of 128\n",
      "building tree 103 of 128\n",
      "building tree 104 of 128\n",
      "building tree 105 of 128\n",
      "building tree 106 of 128\n",
      "building tree 107 of 128\n",
      "building tree 108 of 128\n",
      "building tree 109 of 128\n",
      "building tree 110 of 128\n",
      "building tree 111 of 128\n",
      "building tree 112 of 128\n",
      "building tree 113 of 128\n",
      "building tree 114 of 128\n",
      "building tree 115 of 128\n",
      "building tree 116 of 128\n",
      "building tree 117 of 128\n",
      "building tree 118 of 128\n",
      "building tree 119 of 128\n",
      "building tree 120 of 128\n",
      "building tree 121 of 128\n",
      "building tree 122 of 128\n",
      "building tree 123 of 128\n",
      "building tree 124 of 128\n",
      "building tree 125 of 128\n",
      "building tree 126 of 128\n",
      "building tree 127 of 128\n",
      "building tree 128 of 128\n"
     ]
    },
    {
     "name": "stderr",
     "output_type": "stream",
     "text": [
      "[Parallel(n_jobs=1)]: Done  40 tasks      | elapsed:   52.4s\n",
      "[Parallel(n_jobs=1)]: Done  40 tasks      | elapsed:   11.8s\n"
     ]
    },
    {
     "ename": "ValueError",
     "evalue": "x and y must have same first dimension, but have shapes (128,) and (8,)",
     "output_type": "error",
     "traceback": [
      "\u001b[0;31m---------------------------------------------------------------------------\u001b[0m",
      "\u001b[0;31mValueError\u001b[0m                                Traceback (most recent call last)",
      "Cell \u001b[0;32mIn[5], line 27\u001b[0m\n\u001b[1;32m     25\u001b[0m \u001b[38;5;66;03m# Plot the results\u001b[39;00m\n\u001b[1;32m     26\u001b[0m plt\u001b[38;5;241m.\u001b[39mfigure(figsize\u001b[38;5;241m=\u001b[39m(\u001b[38;5;241m10\u001b[39m, \u001b[38;5;241m6\u001b[39m))\n\u001b[0;32m---> 27\u001b[0m \u001b[43mplt\u001b[49m\u001b[38;5;241;43m.\u001b[39;49m\u001b[43mplot\u001b[49m\u001b[43m(\u001b[49m\u001b[38;5;28;43mrange\u001b[39;49m\u001b[43m(\u001b[49m\u001b[38;5;241;43m1\u001b[39;49m\u001b[43m,\u001b[49m\u001b[43m \u001b[49m\u001b[38;5;241;43m129\u001b[39;49m\u001b[43m)\u001b[49m\u001b[43m,\u001b[49m\u001b[43m \u001b[49m\u001b[43mtrain_mse\u001b[49m\u001b[43m,\u001b[49m\u001b[43m \u001b[49m\u001b[43mlabel\u001b[49m\u001b[38;5;241;43m=\u001b[39;49m\u001b[38;5;124;43m'\u001b[39;49m\u001b[38;5;124;43mTraining MSE\u001b[39;49m\u001b[38;5;124;43m'\u001b[39;49m\u001b[43m,\u001b[49m\u001b[43m \u001b[49m\u001b[43mcolor\u001b[49m\u001b[38;5;241;43m=\u001b[39;49m\u001b[38;5;124;43m'\u001b[39;49m\u001b[38;5;124;43mblue\u001b[39;49m\u001b[38;5;124;43m'\u001b[39;49m\u001b[43m,\u001b[49m\u001b[43m \u001b[49m\u001b[43mlinestyle\u001b[49m\u001b[38;5;241;43m=\u001b[39;49m\u001b[38;5;124;43m'\u001b[39;49m\u001b[38;5;124;43m-\u001b[39;49m\u001b[38;5;124;43m'\u001b[39;49m\u001b[43m)\u001b[49m\n\u001b[1;32m     28\u001b[0m plt\u001b[38;5;241m.\u001b[39mplot(\u001b[38;5;28mrange\u001b[39m(\u001b[38;5;241m1\u001b[39m, \u001b[38;5;241m129\u001b[39m), test_mse, label\u001b[38;5;241m=\u001b[39m\u001b[38;5;124m'\u001b[39m\u001b[38;5;124mTest MSE\u001b[39m\u001b[38;5;124m'\u001b[39m, color\u001b[38;5;241m=\u001b[39m\u001b[38;5;124m'\u001b[39m\u001b[38;5;124mred\u001b[39m\u001b[38;5;124m'\u001b[39m, linestyle\u001b[38;5;241m=\u001b[39m\u001b[38;5;124m'\u001b[39m\u001b[38;5;124m-\u001b[39m\u001b[38;5;124m'\u001b[39m)\n\u001b[1;32m     29\u001b[0m plt\u001b[38;5;241m.\u001b[39mxlabel(\u001b[38;5;124m'\u001b[39m\u001b[38;5;124mNumber of Trees (n_estimators)\u001b[39m\u001b[38;5;124m'\u001b[39m)\n",
      "File \u001b[0;32m/opt/conda/lib/python3.11/site-packages/matplotlib/pyplot.py:3590\u001b[0m, in \u001b[0;36mplot\u001b[0;34m(scalex, scaley, data, *args, **kwargs)\u001b[0m\n\u001b[1;32m   3582\u001b[0m \u001b[38;5;129m@_copy_docstring_and_deprecators\u001b[39m(Axes\u001b[38;5;241m.\u001b[39mplot)\n\u001b[1;32m   3583\u001b[0m \u001b[38;5;28;01mdef\u001b[39;00m \u001b[38;5;21mplot\u001b[39m(\n\u001b[1;32m   3584\u001b[0m     \u001b[38;5;241m*\u001b[39margs: \u001b[38;5;28mfloat\u001b[39m \u001b[38;5;241m|\u001b[39m ArrayLike \u001b[38;5;241m|\u001b[39m \u001b[38;5;28mstr\u001b[39m,\n\u001b[0;32m   (...)\u001b[0m\n\u001b[1;32m   3588\u001b[0m     \u001b[38;5;241m*\u001b[39m\u001b[38;5;241m*\u001b[39mkwargs,\n\u001b[1;32m   3589\u001b[0m ) \u001b[38;5;241m-\u001b[39m\u001b[38;5;241m>\u001b[39m \u001b[38;5;28mlist\u001b[39m[Line2D]:\n\u001b[0;32m-> 3590\u001b[0m     \u001b[38;5;28;01mreturn\u001b[39;00m \u001b[43mgca\u001b[49m\u001b[43m(\u001b[49m\u001b[43m)\u001b[49m\u001b[38;5;241;43m.\u001b[39;49m\u001b[43mplot\u001b[49m\u001b[43m(\u001b[49m\n\u001b[1;32m   3591\u001b[0m \u001b[43m        \u001b[49m\u001b[38;5;241;43m*\u001b[39;49m\u001b[43margs\u001b[49m\u001b[43m,\u001b[49m\n\u001b[1;32m   3592\u001b[0m \u001b[43m        \u001b[49m\u001b[43mscalex\u001b[49m\u001b[38;5;241;43m=\u001b[39;49m\u001b[43mscalex\u001b[49m\u001b[43m,\u001b[49m\n\u001b[1;32m   3593\u001b[0m \u001b[43m        \u001b[49m\u001b[43mscaley\u001b[49m\u001b[38;5;241;43m=\u001b[39;49m\u001b[43mscaley\u001b[49m\u001b[43m,\u001b[49m\n\u001b[1;32m   3594\u001b[0m \u001b[43m        \u001b[49m\u001b[38;5;241;43m*\u001b[39;49m\u001b[38;5;241;43m*\u001b[39;49m\u001b[43m(\u001b[49m\u001b[43m{\u001b[49m\u001b[38;5;124;43m\"\u001b[39;49m\u001b[38;5;124;43mdata\u001b[39;49m\u001b[38;5;124;43m\"\u001b[39;49m\u001b[43m:\u001b[49m\u001b[43m \u001b[49m\u001b[43mdata\u001b[49m\u001b[43m}\u001b[49m\u001b[43m \u001b[49m\u001b[38;5;28;43;01mif\u001b[39;49;00m\u001b[43m \u001b[49m\u001b[43mdata\u001b[49m\u001b[43m \u001b[49m\u001b[38;5;129;43;01mis\u001b[39;49;00m\u001b[43m \u001b[49m\u001b[38;5;129;43;01mnot\u001b[39;49;00m\u001b[43m \u001b[49m\u001b[38;5;28;43;01mNone\u001b[39;49;00m\u001b[43m \u001b[49m\u001b[38;5;28;43;01melse\u001b[39;49;00m\u001b[43m \u001b[49m\u001b[43m{\u001b[49m\u001b[43m}\u001b[49m\u001b[43m)\u001b[49m\u001b[43m,\u001b[49m\n\u001b[1;32m   3595\u001b[0m \u001b[43m        \u001b[49m\u001b[38;5;241;43m*\u001b[39;49m\u001b[38;5;241;43m*\u001b[39;49m\u001b[43mkwargs\u001b[49m\u001b[43m,\u001b[49m\n\u001b[1;32m   3596\u001b[0m \u001b[43m    \u001b[49m\u001b[43m)\u001b[49m\n",
      "File \u001b[0;32m/opt/conda/lib/python3.11/site-packages/matplotlib/axes/_axes.py:1724\u001b[0m, in \u001b[0;36mAxes.plot\u001b[0;34m(self, scalex, scaley, data, *args, **kwargs)\u001b[0m\n\u001b[1;32m   1481\u001b[0m \u001b[38;5;250m\u001b[39m\u001b[38;5;124;03m\"\"\"\u001b[39;00m\n\u001b[1;32m   1482\u001b[0m \u001b[38;5;124;03mPlot y versus x as lines and/or markers.\u001b[39;00m\n\u001b[1;32m   1483\u001b[0m \n\u001b[0;32m   (...)\u001b[0m\n\u001b[1;32m   1721\u001b[0m \u001b[38;5;124;03m(``'green'``) or hex strings (``'#008000'``).\u001b[39;00m\n\u001b[1;32m   1722\u001b[0m \u001b[38;5;124;03m\"\"\"\u001b[39;00m\n\u001b[1;32m   1723\u001b[0m kwargs \u001b[38;5;241m=\u001b[39m cbook\u001b[38;5;241m.\u001b[39mnormalize_kwargs(kwargs, mlines\u001b[38;5;241m.\u001b[39mLine2D)\n\u001b[0;32m-> 1724\u001b[0m lines \u001b[38;5;241m=\u001b[39m [\u001b[38;5;241m*\u001b[39m\u001b[38;5;28mself\u001b[39m\u001b[38;5;241m.\u001b[39m_get_lines(\u001b[38;5;28mself\u001b[39m, \u001b[38;5;241m*\u001b[39margs, data\u001b[38;5;241m=\u001b[39mdata, \u001b[38;5;241m*\u001b[39m\u001b[38;5;241m*\u001b[39mkwargs)]\n\u001b[1;32m   1725\u001b[0m \u001b[38;5;28;01mfor\u001b[39;00m line \u001b[38;5;129;01min\u001b[39;00m lines:\n\u001b[1;32m   1726\u001b[0m     \u001b[38;5;28mself\u001b[39m\u001b[38;5;241m.\u001b[39madd_line(line)\n",
      "File \u001b[0;32m/opt/conda/lib/python3.11/site-packages/matplotlib/axes/_base.py:303\u001b[0m, in \u001b[0;36m_process_plot_var_args.__call__\u001b[0;34m(self, axes, data, *args, **kwargs)\u001b[0m\n\u001b[1;32m    301\u001b[0m     this \u001b[38;5;241m+\u001b[39m\u001b[38;5;241m=\u001b[39m args[\u001b[38;5;241m0\u001b[39m],\n\u001b[1;32m    302\u001b[0m     args \u001b[38;5;241m=\u001b[39m args[\u001b[38;5;241m1\u001b[39m:]\n\u001b[0;32m--> 303\u001b[0m \u001b[38;5;28;01myield from\u001b[39;00m \u001b[38;5;28;43mself\u001b[39;49m\u001b[38;5;241;43m.\u001b[39;49m\u001b[43m_plot_args\u001b[49m\u001b[43m(\u001b[49m\n\u001b[1;32m    304\u001b[0m \u001b[43m    \u001b[49m\u001b[43maxes\u001b[49m\u001b[43m,\u001b[49m\u001b[43m \u001b[49m\u001b[43mthis\u001b[49m\u001b[43m,\u001b[49m\u001b[43m \u001b[49m\u001b[43mkwargs\u001b[49m\u001b[43m,\u001b[49m\u001b[43m \u001b[49m\u001b[43mambiguous_fmt_datakey\u001b[49m\u001b[38;5;241;43m=\u001b[39;49m\u001b[43mambiguous_fmt_datakey\u001b[49m\u001b[43m)\u001b[49m\n",
      "File \u001b[0;32m/opt/conda/lib/python3.11/site-packages/matplotlib/axes/_base.py:499\u001b[0m, in \u001b[0;36m_process_plot_var_args._plot_args\u001b[0;34m(self, axes, tup, kwargs, return_kwargs, ambiguous_fmt_datakey)\u001b[0m\n\u001b[1;32m    496\u001b[0m     axes\u001b[38;5;241m.\u001b[39myaxis\u001b[38;5;241m.\u001b[39mupdate_units(y)\n\u001b[1;32m    498\u001b[0m \u001b[38;5;28;01mif\u001b[39;00m x\u001b[38;5;241m.\u001b[39mshape[\u001b[38;5;241m0\u001b[39m] \u001b[38;5;241m!=\u001b[39m y\u001b[38;5;241m.\u001b[39mshape[\u001b[38;5;241m0\u001b[39m]:\n\u001b[0;32m--> 499\u001b[0m     \u001b[38;5;28;01mraise\u001b[39;00m \u001b[38;5;167;01mValueError\u001b[39;00m(\u001b[38;5;124mf\u001b[39m\u001b[38;5;124m\"\u001b[39m\u001b[38;5;124mx and y must have same first dimension, but \u001b[39m\u001b[38;5;124m\"\u001b[39m\n\u001b[1;32m    500\u001b[0m                      \u001b[38;5;124mf\u001b[39m\u001b[38;5;124m\"\u001b[39m\u001b[38;5;124mhave shapes \u001b[39m\u001b[38;5;132;01m{\u001b[39;00mx\u001b[38;5;241m.\u001b[39mshape\u001b[38;5;132;01m}\u001b[39;00m\u001b[38;5;124m and \u001b[39m\u001b[38;5;132;01m{\u001b[39;00my\u001b[38;5;241m.\u001b[39mshape\u001b[38;5;132;01m}\u001b[39;00m\u001b[38;5;124m\"\u001b[39m)\n\u001b[1;32m    501\u001b[0m \u001b[38;5;28;01mif\u001b[39;00m x\u001b[38;5;241m.\u001b[39mndim \u001b[38;5;241m>\u001b[39m \u001b[38;5;241m2\u001b[39m \u001b[38;5;129;01mor\u001b[39;00m y\u001b[38;5;241m.\u001b[39mndim \u001b[38;5;241m>\u001b[39m \u001b[38;5;241m2\u001b[39m:\n\u001b[1;32m    502\u001b[0m     \u001b[38;5;28;01mraise\u001b[39;00m \u001b[38;5;167;01mValueError\u001b[39;00m(\u001b[38;5;124mf\u001b[39m\u001b[38;5;124m\"\u001b[39m\u001b[38;5;124mx and y can be no greater than 2D, but have \u001b[39m\u001b[38;5;124m\"\u001b[39m\n\u001b[1;32m    503\u001b[0m                      \u001b[38;5;124mf\u001b[39m\u001b[38;5;124m\"\u001b[39m\u001b[38;5;124mshapes \u001b[39m\u001b[38;5;132;01m{\u001b[39;00mx\u001b[38;5;241m.\u001b[39mshape\u001b[38;5;132;01m}\u001b[39;00m\u001b[38;5;124m and \u001b[39m\u001b[38;5;132;01m{\u001b[39;00my\u001b[38;5;241m.\u001b[39mshape\u001b[38;5;132;01m}\u001b[39;00m\u001b[38;5;124m\"\u001b[39m)\n",
      "\u001b[0;31mValueError\u001b[0m: x and y must have same first dimension, but have shapes (128,) and (8,)"
     ]
    },
    {
     "data": {
      "image/png": "[encoded data removed]",
      "text/plain": [
       "<Figure size 1000x600 with 1 Axes>"
      ]
     },
     "metadata": {},
     "output_type": "display_data"
    }
   ],
   "source": [
    "# Initialize lists to store MSE values\n",
    "train_mse = []\n",
    "test_mse = []\n",
    "\n",
    "# Loop over n_estimators from 1 to 128\n",
    "for i in [1, 2, 4, 8, 16, 32, 64, 128]:\n",
    "    # Initialize RandomForestRegressor with current n_estimators\n",
    "    rf_model = RandomForestRegressor(\n",
    "        n_estimators=i,\n",
    "        random_state=42,\n",
    "        verbose=2\n",
    "    )\n",
    "    \n",
    "    # Fit the model\n",
    "    rf_model.fit(X_train_standardized, y_train)\n",
    "    \n",
    "    # Predict on training and test sets\n",
    "    y_train_pred = rf_model.predict(X_train_standardized)\n",
    "    y_test_pred = rf_model.predict(X_test_standardized)\n",
    "    \n",
    "    # Compute MSE for training and test sets\n",
    "    train_mse.append(mean_squared_error(y_train, y_train_pred))\n",
    "    test_mse.append(mean_squared_error(y_test, y_test_pred))"
   ]
  },
  {
   "cell_type": "code",
   "execution_count": 7,
   "id": "2de35944-d26a-4830-9915-b7521d53f8cd",
   "metadata": {},
   "outputs": [
    {
     "name": "stdout",
     "output_type": "stream",
     "text": [
      "[709.4726914432154, 418.30820022817556, 277.8388700532796, 204.90027340294358, 162.2601152863523, 144.72255256479997, 134.97550476097206, 129.57334712248436]\n"
     ]
    }
   ],
   "source": [
    "print(train_mse)"
   ]
  },
  {
   "cell_type": "code",
   "execution_count": 8,
   "id": "68e05699-634b-4062-aa2b-5d4b908a4e4f",
   "metadata": {},
   "outputs": [
    {
     "name": "stdout",
     "output_type": "stream",
     "text": [
      "[3863.7106288417385, 2762.1264266373178, 2303.719431544931, 2084.550320455727, 1978.706962387985, 1915.7216285921297, 1867.4418342520714, 1860.811184803811]\n"
     ]
    }
   ],
   "source": [
    "print(test_mse)"
   ]
  },
  {
   "cell_type": "code",
   "execution_count": 9,
   "id": "cd36be9d-e740-4e14-82f5-70e9acba89dc",
   "metadata": {},
   "outputs": [
    {
     "data": {
      "image/png": "[encoded data removed]",
      "text/plain": [
       "<Figure size 1000x600 with 1 Axes>"
      ]
     },
     "metadata": {},
     "output_type": "display_data"
    }
   ],
   "source": [
    "# Plot the results\n",
    "plt.figure(figsize=(10, 6))\n",
    "plt.plot([1, 2, 4, 8, 16, 32, 64, 128], train_mse, label='Training MSE', color='blue', linestyle='-')\n",
    "plt.plot([1, 2, 4, 8, 16, 32, 64, 128], test_mse, label='Test MSE', color='red', linestyle='-')\n",
    "plt.xlabel('Number of Trees (n_estimators)')\n",
    "plt.ylabel('Mean Squared Error (MSE)')\n",
    "plt.title('MSE vs. Number of Trees in RandomForestRegressor')\n",
    "plt.legend()\n",
    "plt.grid(True)\n",
    "plt.show()"
   ]
  },
  {
   "cell_type": "code",
   "execution_count": 10,
   "id": "cb573329-8464-4590-b2bf-d9f4f715aaca",
   "metadata": {},
   "outputs": [
    {
     "name": "stdout",
     "output_type": "stream",
     "text": [
      "Lowest MSE:  1860.811184803811\n",
      "Best N-Estimator:  128\n"
     ]
    }
   ],
   "source": [
    "print('Lowest MSE: ', min(test_mse))\n",
    "print('Best N-Estimator: ', [1, 2, 4, 8, 16, 32, 64, 128][np.argmin(test_mse)])"
   ]
  },
  {
   "cell_type": "code",
   "execution_count": null,
   "id": "23dccec6-5425-486b-bb2b-e6ad30e20a05",
   "metadata": {},
   "outputs": [],
   "source": []
  }
 ],
 "metadata": {
  "kernelspec": {
   "display_name": "Python 3 (ipykernel)",
   "language": "python",
   "name": "python3"
  },
  "language_info": {
   "codemirror_mode": {
    "name": "ipython",
    "version": 3
   },
   "file_extension": ".py",
   "mimetype": "text/x-python",
   "name": "python",
   "nbconvert_exporter": "python",
   "pygments_lexer": "ipython3",
   "version": "3.11.9"
  }
 },
 "nbformat": 4,
 "nbformat_minor": 5
}
